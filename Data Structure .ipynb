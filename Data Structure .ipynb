{
 "cells": [
  {
   "cell_type": "markdown",
   "id": "a934b40b",
   "metadata": {},
   "source": [
    "# Indexing\n"
   ]
  },
  {
   "cell_type": "code",
   "execution_count": 29,
   "id": "3ec40194",
   "metadata": {},
   "outputs": [],
   "source": [
    "#make a string \n",
    "a=('ahmed',2,True,2.5)"
   ]
  },
  {
   "cell_type": "markdown",
   "id": "046a9988",
   "metadata": {},
   "source": [
    "# 1- Tuple\n",
    "- ordered collections of elements\n",
    "- enclosed in ()\n",
    "- different kinds of elements can be stored\n",
    "- Once elements are stored you can not change them unmutable \n"
   ]
  },
  {
   "cell_type": "code",
   "execution_count": 34,
   "id": "bb83ff3d",
   "metadata": {},
   "outputs": [],
   "source": [
    "tup=(1,2.5,'float','int')"
   ]
  },
  {
   "cell_type": "markdown",
   "id": "9010690c",
   "metadata": {},
   "source": [
    "# 2 - List\n",
    "- ordered collectionsof elements \n",
    "- enclosed in a [] bracket \n",
    "- Mutateable "
   ]
  },
  {
   "cell_type": "code",
   "execution_count": 56,
   "id": "b72271e0",
   "metadata": {},
   "outputs": [],
   "source": [
    "list1 = [1, 2,'SArtaj', 2.3]"
   ]
  },
  {
   "cell_type": "code",
   "execution_count": 61,
   "id": "5e86419b",
   "metadata": {},
   "outputs": [
    {
     "data": {
      "text/plain": [
       "'SArtaj'"
      ]
     },
     "execution_count": 61,
     "metadata": {},
     "output_type": "execute_result"
    }
   ],
   "source": [
    "list1.pop(2)"
   ]
  },
  {
   "cell_type": "code",
   "execution_count": 62,
   "id": "21f1596a",
   "metadata": {},
   "outputs": [],
   "source": [
    "list1.insert(4,\"aghhgg\")"
   ]
  },
  {
   "cell_type": "code",
   "execution_count": 63,
   "id": "a9cda9fc",
   "metadata": {},
   "outputs": [
    {
     "data": {
      "text/plain": [
       "[1, 2, 2.3, 'aghhgg', 'aghhgg']"
      ]
     },
     "execution_count": 63,
     "metadata": {},
     "output_type": "execute_result"
    }
   ],
   "source": [
    "list1"
   ]
  },
  {
   "cell_type": "markdown",
   "id": "bbedd4a1",
   "metadata": {},
   "source": [
    "# 3 - Dic\n",
    "- unordered collectionsof elements \n",
    "- enclosed in a { } bracket \n",
    "- Mutateable \n",
    "- key and values"
   ]
  },
  {
   "cell_type": "code",
   "execution_count": 64,
   "id": "267a5ff5",
   "metadata": {},
   "outputs": [],
   "source": [
    "d1 ={'mango':300,'samosa':40, 'chai':30}"
   ]
  },
  {
   "cell_type": "code",
   "execution_count": 69,
   "id": "37118da9",
   "metadata": {},
   "outputs": [
    {
     "data": {
      "text/plain": [
       "{'mango': 300, 'samosa': 40, 'chai': 30}"
      ]
     },
     "execution_count": 69,
     "metadata": {},
     "output_type": "execute_result"
    }
   ],
   "source": [
    "d1"
   ]
  },
  {
   "cell_type": "code",
   "execution_count": 71,
   "id": "7f340193",
   "metadata": {},
   "outputs": [
    {
     "data": {
      "text/plain": [
       "dict_keys(['mango', 'samosa', 'chai'])"
      ]
     },
     "execution_count": 71,
     "metadata": {},
     "output_type": "execute_result"
    }
   ],
   "source": [
    "d1.keys()"
   ]
  },
  {
   "cell_type": "code",
   "execution_count": 72,
   "id": "72be5994",
   "metadata": {},
   "outputs": [
    {
     "data": {
      "text/plain": [
       "dict_values([300, 40, 30])"
      ]
     },
     "execution_count": 72,
     "metadata": {},
     "output_type": "execute_result"
    }
   ],
   "source": [
    "d1.values()"
   ]
  },
  {
   "cell_type": "code",
   "execution_count": 73,
   "id": "31cd996a",
   "metadata": {},
   "outputs": [],
   "source": [
    "d1[\"grapes\"]=500"
   ]
  },
  {
   "cell_type": "code",
   "execution_count": 74,
   "id": "b942815b",
   "metadata": {},
   "outputs": [
    {
     "data": {
      "text/plain": [
       "{'mango': 300, 'samosa': 40, 'chai': 30, 'grapes': 500}"
      ]
     },
     "execution_count": 74,
     "metadata": {},
     "output_type": "execute_result"
    }
   ],
   "source": [
    "d1"
   ]
  },
  {
   "cell_type": "code",
   "execution_count": 79,
   "id": "929f5701",
   "metadata": {},
   "outputs": [
    {
     "data": {
      "text/plain": [
       "500"
      ]
     },
     "execution_count": 79,
     "metadata": {},
     "output_type": "execute_result"
    }
   ],
   "source": [
    "d1.get('grapes')"
   ]
  },
  {
   "cell_type": "code",
   "execution_count": null,
   "id": "57eadcd4",
   "metadata": {},
   "outputs": [],
   "source": []
  },
  {
   "cell_type": "code",
   "execution_count": null,
   "id": "6c8a007c",
   "metadata": {},
   "outputs": [],
   "source": []
  },
  {
   "cell_type": "code",
   "execution_count": null,
   "id": "a4af59fa",
   "metadata": {},
   "outputs": [],
   "source": []
  }
 ],
 "metadata": {
  "kernelspec": {
   "display_name": "Python 3 (ipykernel)",
   "language": "python",
   "name": "python3"
  },
  "language_info": {
   "codemirror_mode": {
    "name": "ipython",
    "version": 3
   },
   "file_extension": ".py",
   "mimetype": "text/x-python",
   "name": "python",
   "nbconvert_exporter": "python",
   "pygments_lexer": "ipython3",
   "version": "3.9.7"
  }
 },
 "nbformat": 4,
 "nbformat_minor": 5
}
