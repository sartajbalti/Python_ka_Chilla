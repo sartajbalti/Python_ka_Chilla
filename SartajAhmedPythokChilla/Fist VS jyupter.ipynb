{
 "cells": [
  {
   "cell_type": "code",
   "execution_count": 2,
   "metadata": {},
   "outputs": [
    {
     "data": {
      "text/plain": [
       "0    1\n",
       "1    2\n",
       "2    3\n",
       "3    4\n",
       "4    5\n",
       "dtype: int64"
      ]
     },
     "execution_count": 2,
     "metadata": {},
     "output_type": "execute_result"
    }
   ],
   "source": [
    "import pandas as pd \n",
    "import numpy as np \n",
    "s = pd.Series([1,2,3,4,5])\n",
    "s"
   ]
  },
  {
   "cell_type": "code",
   "execution_count": 3,
   "metadata": {},
   "outputs": [
    {
     "data": {
      "text/plain": [
       "DatetimeIndex(['2022-01-20', '2022-01-21', '2022-01-22', '2022-01-23',\n",
       "               '2022-01-24', '2022-01-25', '2022-01-26', '2022-01-27',\n",
       "               '2022-01-28', '2022-01-29'],\n",
       "              dtype='datetime64[ns]', freq='D')"
      ]
     },
     "execution_count": 3,
     "metadata": {},
     "output_type": "execute_result"
    }
   ],
   "source": [
    "dat = pd.date_range(\"20220120\", periods=10)\n",
    "dat"
   ]
  },
  {
   "cell_type": "code",
   "execution_count": 8,
   "metadata": {},
   "outputs": [
    {
     "data": {
      "text/html": [
       "<div>\n",
       "<style scoped>\n",
       "    .dataframe tbody tr th:only-of-type {\n",
       "        vertical-align: middle;\n",
       "    }\n",
       "\n",
       "    .dataframe tbody tr th {\n",
       "        vertical-align: top;\n",
       "    }\n",
       "\n",
       "    .dataframe thead th {\n",
       "        text-align: right;\n",
       "    }\n",
       "</style>\n",
       "<table border=\"1\" class=\"dataframe\">\n",
       "  <thead>\n",
       "    <tr style=\"text-align: right;\">\n",
       "      <th></th>\n",
       "      <th>A</th>\n",
       "      <th>B</th>\n",
       "      <th>C</th>\n",
       "      <th>D</th>\n",
       "    </tr>\n",
       "  </thead>\n",
       "  <tbody>\n",
       "    <tr>\n",
       "      <th>2022-01-20</th>\n",
       "      <td>1.078895</td>\n",
       "      <td>1.839238</td>\n",
       "      <td>-0.542008</td>\n",
       "      <td>-1.536281</td>\n",
       "    </tr>\n",
       "    <tr>\n",
       "      <th>2022-01-21</th>\n",
       "      <td>-1.281302</td>\n",
       "      <td>-0.692552</td>\n",
       "      <td>-0.971310</td>\n",
       "      <td>-0.367346</td>\n",
       "    </tr>\n",
       "    <tr>\n",
       "      <th>2022-01-22</th>\n",
       "      <td>-0.714936</td>\n",
       "      <td>-0.869391</td>\n",
       "      <td>-0.284293</td>\n",
       "      <td>-1.152119</td>\n",
       "    </tr>\n",
       "    <tr>\n",
       "      <th>2022-01-23</th>\n",
       "      <td>0.407913</td>\n",
       "      <td>-0.386050</td>\n",
       "      <td>-1.209312</td>\n",
       "      <td>0.160282</td>\n",
       "    </tr>\n",
       "    <tr>\n",
       "      <th>2022-01-24</th>\n",
       "      <td>0.171099</td>\n",
       "      <td>-0.154020</td>\n",
       "      <td>-0.315675</td>\n",
       "      <td>0.287627</td>\n",
       "    </tr>\n",
       "    <tr>\n",
       "      <th>2022-01-25</th>\n",
       "      <td>-0.388930</td>\n",
       "      <td>-0.947154</td>\n",
       "      <td>-1.158319</td>\n",
       "      <td>0.076477</td>\n",
       "    </tr>\n",
       "    <tr>\n",
       "      <th>2022-01-26</th>\n",
       "      <td>0.323868</td>\n",
       "      <td>-0.911431</td>\n",
       "      <td>-0.917410</td>\n",
       "      <td>0.244873</td>\n",
       "    </tr>\n",
       "    <tr>\n",
       "      <th>2022-01-27</th>\n",
       "      <td>1.524995</td>\n",
       "      <td>-0.616580</td>\n",
       "      <td>0.180317</td>\n",
       "      <td>0.072559</td>\n",
       "    </tr>\n",
       "    <tr>\n",
       "      <th>2022-01-28</th>\n",
       "      <td>0.163051</td>\n",
       "      <td>0.489200</td>\n",
       "      <td>0.011942</td>\n",
       "      <td>1.083248</td>\n",
       "    </tr>\n",
       "    <tr>\n",
       "      <th>2022-01-29</th>\n",
       "      <td>2.661563</td>\n",
       "      <td>-0.321713</td>\n",
       "      <td>0.504527</td>\n",
       "      <td>1.175323</td>\n",
       "    </tr>\n",
       "  </tbody>\n",
       "</table>\n",
       "</div>"
      ],
      "text/plain": [
       "                   A         B         C         D\n",
       "2022-01-20  1.078895  1.839238 -0.542008 -1.536281\n",
       "2022-01-21 -1.281302 -0.692552 -0.971310 -0.367346\n",
       "2022-01-22 -0.714936 -0.869391 -0.284293 -1.152119\n",
       "2022-01-23  0.407913 -0.386050 -1.209312  0.160282\n",
       "2022-01-24  0.171099 -0.154020 -0.315675  0.287627\n",
       "2022-01-25 -0.388930 -0.947154 -1.158319  0.076477\n",
       "2022-01-26  0.323868 -0.911431 -0.917410  0.244873\n",
       "2022-01-27  1.524995 -0.616580  0.180317  0.072559\n",
       "2022-01-28  0.163051  0.489200  0.011942  1.083248\n",
       "2022-01-29  2.661563 -0.321713  0.504527  1.175323"
      ]
     },
     "execution_count": 8,
     "metadata": {},
     "output_type": "execute_result"
    }
   ],
   "source": [
    "df = pd.DataFrame(np.random.randn(10,4),index=dat,columns=list(\"ABCD\"))\n",
    "df"
   ]
  },
  {
   "cell_type": "code",
   "execution_count": 7,
   "metadata": {},
   "outputs": [
    {
     "data": {
      "text/html": [
       "<div>\n",
       "<style scoped>\n",
       "    .dataframe tbody tr th:only-of-type {\n",
       "        vertical-align: middle;\n",
       "    }\n",
       "\n",
       "    .dataframe tbody tr th {\n",
       "        vertical-align: top;\n",
       "    }\n",
       "\n",
       "    .dataframe thead th {\n",
       "        text-align: right;\n",
       "    }\n",
       "</style>\n",
       "<table border=\"1\" class=\"dataframe\">\n",
       "  <thead>\n",
       "    <tr style=\"text-align: right;\">\n",
       "      <th></th>\n",
       "      <th>A</th>\n",
       "      <th>B</th>\n",
       "      <th>C</th>\n",
       "      <th>D</th>\n",
       "      <th>E</th>\n",
       "    </tr>\n",
       "  </thead>\n",
       "  <tbody>\n",
       "    <tr>\n",
       "      <th>0</th>\n",
       "      <td>1</td>\n",
       "      <td>2022-01-20</td>\n",
       "      <td>1.0</td>\n",
       "      <td>3</td>\n",
       "      <td>test</td>\n",
       "    </tr>\n",
       "    <tr>\n",
       "      <th>1</th>\n",
       "      <td>1</td>\n",
       "      <td>2022-01-20</td>\n",
       "      <td>1.0</td>\n",
       "      <td>3</td>\n",
       "      <td>train</td>\n",
       "    </tr>\n",
       "    <tr>\n",
       "      <th>2</th>\n",
       "      <td>1</td>\n",
       "      <td>2022-01-20</td>\n",
       "      <td>1.0</td>\n",
       "      <td>3</td>\n",
       "      <td>validation</td>\n",
       "    </tr>\n",
       "    <tr>\n",
       "      <th>3</th>\n",
       "      <td>1</td>\n",
       "      <td>2022-01-20</td>\n",
       "      <td>1.0</td>\n",
       "      <td>3</td>\n",
       "      <td>test</td>\n",
       "    </tr>\n",
       "  </tbody>\n",
       "</table>\n",
       "</div>"
      ],
      "text/plain": [
       "   A          B    C  D           E\n",
       "0  1 2022-01-20  1.0  3        test\n",
       "1  1 2022-01-20  1.0  3       train\n",
       "2  1 2022-01-20  1.0  3  validation\n",
       "3  1 2022-01-20  1.0  3        test"
      ]
     },
     "execution_count": 7,
     "metadata": {},
     "output_type": "execute_result"
    }
   ],
   "source": [
    "df2 = pd.DataFrame({\n",
    "    \"A\": 1,\n",
    "    \"B\": pd.Timestamp(\"20220120\"),\n",
    "    \"C\":pd.Series(1, index=list(range(4)),dtype=\"float32\"),\n",
    "    \"D\":np.array([3]*4,dtype=\"int32\"),\n",
    "    \"E\":pd.Categorical([\"test\",\"train\",\"validation\",\"test\"])\n",
    "})\n",
    "df2"
   ]
  }
 ],
 "metadata": {
  "interpreter": {
   "hash": "f069cb4865ab29fae69144d390f3504171aeca197637ed3e0ed470449dbc920f"
  },
  "kernelspec": {
   "display_name": "Python 3.10.1 64-bit",
   "language": "python",
   "name": "python3"
  },
  "language_info": {
   "codemirror_mode": {
    "name": "ipython",
    "version": 3
   },
   "file_extension": ".py",
   "mimetype": "text/x-python",
   "name": "python",
   "nbconvert_exporter": "python",
   "pygments_lexer": "ipython3",
   "version": "3.10.1"
  },
  "orig_nbformat": 4
 },
 "nbformat": 4,
 "nbformat_minor": 2
}
