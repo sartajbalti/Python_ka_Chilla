{
 "cells": [
  {
   "cell_type": "markdown",
   "metadata": {},
   "source": [
    "Title = \"Dr\"\n",
    "\n",
    "Name = \"Sartaj Ahmed Salman\"\n",
    "\n",
    "Email = \"s2140019@edu.cc.uec.ac.jp\"\n",
    "\n",
    "whatsapp = \"+8618625173755\""
   ]
  }
 ],
 "metadata": {
  "language_info": {
   "name": "python"
  },
  "orig_nbformat": 4
 },
 "nbformat": 4,
 "nbformat_minor": 2
}
