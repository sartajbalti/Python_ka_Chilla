{
 "cells": [
  {
   "cell_type": "code",
   "execution_count": 3,
   "metadata": {},
   "outputs": [
    {
     "name": "stdout",
     "output_type": "stream",
     "text": [
      "stat=0.9520, p = 0.71231\n",
      "Probably gauss\n"
     ]
    }
   ],
   "source": [
    "# ShapiroWilk test \n",
    "from scipy.stats import shapiro\n",
    "data = [0.873, 2.817, 1.233,0.99,-0.055, 0.33,-0.7373, -1.003, 1.2333]\n",
    "stat, p =shapiro(data)\n",
    "print('stat=%.4f, p = %.5f' % (stat,p))\n",
    "if p >0.05:\n",
    "    print(\"Probably gauss\")\n",
    "else:\n",
    "    print(\"Probably not gauss\")"
   ]
  },
  {
   "cell_type": "code",
   "execution_count": 4,
   "metadata": {},
   "outputs": [],
   "source": [
    "import pandas as pd \n",
    "import numpy as np \n",
    "import seaborn as sns\n"
   ]
  },
  {
   "cell_type": "code",
   "execution_count": 15,
   "metadata": {},
   "outputs": [
    {
     "name": "stderr",
     "output_type": "stream",
     "text": [
      "C:\\Users\\Sartaj\\AppData\\Local\\Programs\\Python\\Python39\\lib\\site-packages\\seaborn\\_decorators.py:36: FutureWarning: Pass the following variable as a keyword arg: x. From version 0.12, the only valid positional argument will be `data`, and passing other arguments without an explicit keyword will result in an error or misinterpretation.\n",
      "  warnings.warn(\n"
     ]
    },
    {
     "data": {
      "text/plain": [
       "<AxesSubplot:xlabel='fare'>"
      ]
     },
     "execution_count": 15,
     "metadata": {},
     "output_type": "execute_result"
    },
    {
     "data": {
      "image/png": "[encoded data removed]",
      "text/plain": [
       "<Figure size 432x288 with 1 Axes>"
      ]
     },
     "metadata": {
      "needs_background": "light"
     },
     "output_type": "display_data"
    }
   ],
   "source": [
    "ka = sns.load_dataset('titanic')\n",
    "#ka['age'].hist()\n",
    "sns.boxplot(ka['fare'])"
   ]
  },
  {
   "cell_type": "code",
   "execution_count": 18,
   "metadata": {},
   "outputs": [
    {
     "name": "stdout",
     "output_type": "stream",
     "text": [
      "stat=0.7431, p = 0.00000\n",
      "Probably not gauss\n"
     ]
    },
    {
     "name": "stderr",
     "output_type": "stream",
     "text": [
      "C:\\Users\\Sartaj\\AppData\\Local\\Programs\\Python\\Python39\\lib\\site-packages\\seaborn\\_decorators.py:36: FutureWarning: Pass the following variable as a keyword arg: x. From version 0.12, the only valid positional argument will be `data`, and passing other arguments without an explicit keyword will result in an error or misinterpretation.\n",
      "  warnings.warn(\n"
     ]
    },
    {
     "data": {
      "text/plain": [
       "<AxesSubplot:xlabel='fare'>"
      ]
     },
     "execution_count": 18,
     "metadata": {},
     "output_type": "execute_result"
    },
    {
     "data": {
      "image/png": "[encoded data removed]",
      "text/plain": [
       "<Figure size 432x288 with 1 Axes>"
      ]
     },
     "metadata": {
      "needs_background": "light"
     },
     "output_type": "display_data"
    }
   ],
   "source": [
    "from scipy.stats import shapiro\n",
    "ka = ka.dropna()\n",
    "stat, p =shapiro(ka['fare'])\n",
    "\n",
    "print('stat=%.4f, p = %.5f' % (stat,p))\n",
    "if p >0.05:\n",
    "    print(\"Probably gauss\")\n",
    "else:\n",
    "    print(\"Probably not gauss\")\n",
    "\n",
    "sns.boxplot(ka['fare'])"
   ]
  },
  {
   "cell_type": "code",
   "execution_count": 19,
   "metadata": {},
   "outputs": [
    {
     "data": {
      "text/plain": [
       "<AxesSubplot:>"
      ]
     },
     "execution_count": 19,
     "metadata": {},
     "output_type": "execute_result"
    },
    {
     "data": {
      "image/png": "[encoded data removed]",
      "text/plain": [
       "<Figure size 432x288 with 1 Axes>"
      ]
     },
     "metadata": {
      "needs_background": "light"
     },
     "output_type": "display_data"
    }
   ],
   "source": [
    "ka['fare'].hist()"
   ]
  },
  {
   "cell_type": "code",
   "execution_count": 23,
   "metadata": {},
   "outputs": [
    {
     "name": "stdout",
     "output_type": "stream",
     "text": [
      "stat=-0.0907, p = 0.22319\n",
      "Probably Independent No Correlation\n"
     ]
    }
   ],
   "source": [
    "# Correlation test\n",
    "from scipy.stats import pearsonr\n",
    "data1 = [0.873, 2.817, 1.233,0.99,-0.055, 0.33,-0.7373, -1.003, 1.2333] \n",
    "data2 = [0.1223, 2.8332, -1.233,0.99,-0.055, -0.33,-0.7373, -1.003, 2.2333]\n",
    "stat, p =pearsonr(data1,data2) \n",
    "print('stat=%.4f, p = %.5f' % (stat,p))\n",
    "if p >0.05:\n",
    "    print(\"Probably Independent No Correlation\")\n",
    "else:\n",
    "    print(\"Probably Dependent Correlation exists\")\n"
   ]
  },
  {
   "cell_type": "code",
   "execution_count": 24,
   "metadata": {},
   "outputs": [
    {
     "name": "stdout",
     "output_type": "stream",
     "text": [
      "stat=-0.0726, p = 0.33018\n",
      "Probably Independent No Correlation\n"
     ]
    }
   ],
   "source": [
    "from scipy.stats import spearmanr\n",
    "data1 = [0.873, 2.817, 1.233,0.99,-0.055, 0.33,-0.7373, -1.003, 1.2333] \n",
    "data2 = [0.1223, 2.8332, -1.233,0.99,-0.055, -0.33,-0.7373, -1.003, 2.2333]\n",
    "stat, p =spearmanr(ka['age'],ka['fare']) \n",
    "print('stat=%.4f, p = %.5f' % (stat,p))\n",
    "if p >0.05:\n",
    "    print(\"Probably Independent No Correlation\")\n",
    "else:\n",
    "    print(\"Probably Dependent Correlation exists\")"
   ]
  },
  {
   "cell_type": "code",
   "execution_count": 25,
   "metadata": {},
   "outputs": [
    {
     "name": "stdout",
     "output_type": "stream",
     "text": [
      "stat=1.5386, p = 0.46334\n",
      "Probably Independent No Correlation\n"
     ]
    }
   ],
   "source": [
    "from scipy.stats import chi2_contingency\n",
    "data1 = [0.873, 2.817, 1.233,0.99,-0.055, 0.33,-0.7373, -1.003, 1.2333] \n",
    "data2 = [0.1223, 2.8332, -1.233,0.99,-0.055, -0.33,-0.7373, -1.003, 2.2333]\n",
    "table = [[10,20,20],[6,9,17]]\n",
    "stat, p, dof, expected = chi2_contingency(table)\n",
    "print('stat=%.4f, p = %.5f' % (stat,p))\n",
    "if p >0.05:\n",
    "    print(\"Probably Independent No Correlation\")\n",
    "else:\n",
    "    print(\"Probably Dependent Correlation exists\")"
   ]
  },
  {
   "cell_type": "code",
   "execution_count": 26,
   "metadata": {},
   "outputs": [
    {
     "name": "stdout",
     "output_type": "stream",
     "text": [
      "stat=0.5180, p = 0.61152\n",
      "Probably Independent No Correlation\n"
     ]
    }
   ],
   "source": [
    "from scipy.stats import ttest_ind\n",
    "data1 = [0.873, 2.817, 1.233,0.99,-0.055, 0.33,-0.7373, -1.003, 1.2333] \n",
    "data2 = [0.1223, 2.8332, -1.233,0.99,-0.055, -0.33,-0.7373, -1.003, 2.2333]\n",
    "stat, p =ttest_ind(data1,data2) \n",
    "print('stat=%.4f, p = %.5f' % (stat,p))\n",
    "if p >0.05:\n",
    "    print(\"Probably Independent No Correlation\")\n",
    "else:\n",
    "    print(\"Probably Dependent Correlation exists\")"
   ]
  },
  {
   "cell_type": "code",
   "execution_count": 27,
   "metadata": {},
   "outputs": [
    {
     "name": "stdout",
     "output_type": "stream",
     "text": [
      "stat=1.0071, p = 0.34338\n",
      "Probably Independent No Correlation\n"
     ]
    }
   ],
   "source": [
    "from scipy.stats import ttest_ind\n",
    "data1 = [0.873, 2.817, 1.233,0.99,-0.055, 0.33,-0.7373, -1.003, 1.2333] \n",
    "data2 = [0.1223, 2.8332, -1.233,0.99,-0.055, -0.33,-0.7373, -1.003, 2.2333]\n",
    "stat, p =ttest_ind(data1,data2) \n",
    "print('stat=%.4f, p = %.5f' % (stat,p))\n",
    "if p >0.05:\n",
    "    print(\"Probably Independent No Correlation\")\n",
    "else:\n",
    "    print(\"Probably Dependent Correlation exists\")"
   ]
  },
  {
   "cell_type": "code",
   "execution_count": 33,
   "metadata": {},
   "outputs": [
    {
     "name": "stdout",
     "output_type": "stream",
     "text": [
      "stat=0.0890, p = 0.91517\n",
      "Probably Independent No Correlation\n"
     ]
    }
   ],
   "source": [
    "from scipy.stats import f_oneway\n",
    "data1 = [0.873, 2.817, -1.233,0.99,-0.055, 0.33,-0.7373, -1.003, 1.2333] \n",
    "data2 = [0.873, 2.817, 1.233,0.99,-0.055, -0.33,-0.7373, -1.003, 1.2333] \n",
    "data3 = [-0.873, 2.817, 1.233,0.99,-0.055, 0.33,0.7373, -1.003, -1.2333] \n",
    "stat, p =f_oneway(data1,data2,data3) \n",
    "print('stat=%.4f, p = %.5f' % (stat,p))\n",
    "if p >0.05:\n",
    "    print(\"Probably Same distribution\")\n",
    "else:\n",
    "    print(\"Probably not Same distribution\")"
   ]
  }
 ],
 "metadata": {
  "interpreter": {
   "hash": "8f6a52d64897abb0c18ebbc0642e9cbd7b675ac0be9e15dae59e5b01aea20f21"
  },
  "kernelspec": {
   "display_name": "Python 3.9.0 64-bit",
   "language": "python",
   "name": "python3"
  },
  "language_info": {
   "codemirror_mode": {
    "name": "ipython",
    "version": 3
   },
   "file_extension": ".py",
   "mimetype": "text/x-python",
   "name": "python",
   "nbconvert_exporter": "python",
   "pygments_lexer": "ipython3",
   "version": "3.9.0"
  },
  "orig_nbformat": 4
 },
 "nbformat": 4,
 "nbformat_minor": 2
}
